{
 "cells": [
  {
   "cell_type": "markdown",
   "metadata": {},
   "source": [
    "### Dataset Creation\n",
    "\n",
    "This is the notebook to train the classification of Diabetic Retinography with CNNs\n",
    "\n",
    "This notebook contains the following\n",
    "1. Dataset Creation and Augmentation\n",
    "2. Train and Eval Functions\n",
    "3. CNN Class Models (InceptionV3, ResNet50, ResNet152, EfficientNet, DenseNet, VGG16, MaxViT)\n",
    "\n",
    "This notebook assumes the following project structure:\n",
    "```bash\n",
    "Root\n",
    "├── notebooks\n",
    "│   └── notebook1.ipynb\n",
    "└── input\n",
    "    └── Data\n",
    "        ├── DDR\n",
    "        │   ├── Train\n",
    "        │   └── Test\n",
    "        ── BEN\n",
    "        │   ├── Train\n",
    "        │   └── Test\n",
    "        ├── CLAHE\n",
    "        │   ├── Train\n",
    "        │   └── Test\n",
    "        ├── UNET_Binary\n",
    "        │   ├── Train\n",
    "        │   └── Test\n",
    "        └── UNET_Multiclass\n",
    "            ├── Train\n",
    "            └── Test\n",
    "```\n",
    "\n",
    "If you do not have the dataset, please download it from our Google Drive"
   ]
  },
  {
   "cell_type": "code",
   "execution_count": 1,
   "metadata": {},
   "outputs": [],
   "source": [
    "#Necessary Imports\n",
    "import torch\n",
    "from torchvision import datasets, transforms, models\n",
    "from torchvision.transforms import InterpolationMode\n",
    "import torch.nn as nn \n",
    "import torch.nn.functional as F\n",
    "import matplotlib.pyplot as plt\n",
    "\n",
    "import pandas as pd\n",
    "import numpy as np\n",
    "from tqdm import tqdm\n",
    "import gc"
   ]
  },
  {
   "cell_type": "markdown",
   "metadata": {},
   "source": [
    "### Dataset Creation"
   ]
  },
  {
   "cell_type": "code",
   "execution_count": 2,
   "metadata": {},
   "outputs": [],
   "source": [
    "# Parameter required\n",
    "image_size = (299,299)\n",
    "batch_size = 64\n",
    "\n",
    "# Defining Train Transforms\n",
    "train_transform = transforms.Compose([\n",
    "    transforms.Resize(image_size),\n",
    "    transforms.RandomHorizontalFlip(p=0.5),  # Flip horizontally with a 50% probability\n",
    "    transforms.RandomVerticalFlip(p=0.5),  # Flip vertically with a 50% probability\n",
    "    transforms.RandomAffine(\n",
    "        degrees=360,  # Rotation\n",
    "        translate=(0.1, 0.1),  # Translation\n",
    "        scale=(0.8, 1.2) #Zooming\n",
    "    ),\n",
    "    transforms.ToTensor()\n",
    "])\n",
    "\n",
    "\n",
    "# Defining Evaluation Transforms, no data augmentation\n",
    "eval_transform = transforms.Compose([\n",
    "    transforms.Resize(image_size),\n",
    "    transforms.ToTensor()\n",
    "])"
   ]
  },
  {
   "cell_type": "markdown",
   "metadata": {},
   "source": [
    "#### Ben Graham dataset"
   ]
  },
  {
   "cell_type": "code",
   "execution_count": 3,
   "metadata": {},
   "outputs": [],
   "source": [
    "# Create PyTorch datasets for training and validation\n",
    "ben_train_dataset = datasets.ImageFolder(\n",
    "                    root='../input/grading_images/BEN/train', \n",
    "                    transform=train_transform\n",
    "                    )\n",
    "ben_val_dataset = datasets.ImageFolder(\n",
    "                    root='../input/grading_images/BEN/val', \n",
    "                    transform=eval_transform\n",
    "                    )\n",
    "ben_test_dataset = datasets.ImageFolder(\n",
    "                    root='../input/grading_images/BEN/test', \n",
    "                    transform=eval_transform\n",
    "                    )\n",
    "\n",
    "# Create PyTorch dataloaders for training and validation\n",
    "ben_train_dataloader = torch.utils.data.DataLoader(\n",
    "                    ben_train_dataset,\n",
    "                    batch_size=batch_size, \n",
    "                    shuffle=True\n",
    "                    )\n",
    "ben_val_dataloader = torch.utils.data.DataLoader(\n",
    "                    ben_val_dataset, \n",
    "                    batch_size=batch_size, \n",
    "                    shuffle=True\n",
    "                    )\n",
    "ben_test_dataloader = torch.utils.data.DataLoader(\n",
    "                    ben_test_dataset, \n",
    "                    batch_size=batch_size, \n",
    "                    shuffle=True\n",
    "                    )"
   ]
  },
  {
   "cell_type": "markdown",
   "metadata": {},
   "source": [
    "#### CLAHE dataset"
   ]
  },
  {
   "cell_type": "code",
   "execution_count": null,
   "metadata": {},
   "outputs": [],
   "source": [
    "# Create PyTorch datasets for training and validation\n",
    "clahe_train_dataset = datasets.ImageFolder(\n",
    "                    root='../input/grading_images/CLAHE/train', \n",
    "                    transform=train_transform\n",
    "                    )\n",
    "clahe_val_dataset = datasets.ImageFolder(\n",
    "                    root='../input/grading_images/CLAHE/val', \n",
    "                    transform=eval_transform\n",
    "                    )\n",
    "clahe_test_dataset = datasets.ImageFolder(\n",
    "                    root='../input/grading_images/CLAHE/test', \n",
    "                    transform=eval_transform\n",
    "                    )\n",
    "\n",
    "# Create PyTorch dataloaders for training and validation\n",
    "clahe_train_dataloader = torch.utils.data.DataLoader(\n",
    "                    clahe_train_dataset,\n",
    "                    batch_size=batch_size, \n",
    "                    shuffle=True\n",
    "                    )\n",
    "clahe_val_dataloader = torch.utils.data.DataLoader(\n",
    "                    clahe_val_dataset, \n",
    "                    batch_size=batch_size, \n",
    "                    shuffle=True\n",
    "                    )\n",
    "clahe_test_dataloader = torch.utils.data.DataLoader(\n",
    "                    clahe_test_dataset, \n",
    "                    batch_size=batch_size, \n",
    "                    shuffle=True\n",
    "                    )"
   ]
  },
  {
   "cell_type": "markdown",
   "metadata": {},
   "source": [
    "#### UNET_Binary Dataset"
   ]
  },
  {
   "cell_type": "code",
   "execution_count": null,
   "metadata": {},
   "outputs": [],
   "source": [
    "# Create PyTorch datasets for training and validation\n",
    "unetb_train_dataset = datasets.ImageFolder(\n",
    "                    root='../input/grading_images/UNET_Binary/train', \n",
    "                    transform=train_transform\n",
    "                    )\n",
    "unetb_val_dataset = datasets.ImageFolder(\n",
    "                    root='../input/grading_images/UNET_Binary/val', \n",
    "                    transform=eval_transform\n",
    "                    )\n",
    "unetb_test_dataset = datasets.ImageFolder(\n",
    "                    root='../input/grading_images/UNET_Binary/test', \n",
    "                    transform=eval_transform\n",
    "                    )\n",
    "\n",
    "# Create PyTorch dataloaders for training and validation\n",
    "unetb_train_dataloader = torch.utils.data.DataLoader(\n",
    "                    unetb_train_dataset,\n",
    "                    batch_size=batch_size, \n",
    "                    shuffle=True\n",
    "                    )\n",
    "unetb_val_dataloader = torch.utils.data.DataLoader(\n",
    "                    unetb_val_dataset, \n",
    "                    batch_size=batch_size, \n",
    "                    shuffle=True\n",
    "                    )\n",
    "unetb_test_dataloader = torch.utils.data.DataLoader(\n",
    "                    unetb_test_dataset, \n",
    "                    batch_size=batch_size, \n",
    "                    shuffle=True\n",
    "                    )"
   ]
  },
  {
   "cell_type": "markdown",
   "metadata": {},
   "source": [
    "#### UNET_Multiclass Dataset"
   ]
  },
  {
   "cell_type": "code",
   "execution_count": null,
   "metadata": {},
   "outputs": [],
   "source": [
    "# Create PyTorch datasets for training and validation\n",
    "unetm_train_dataset = datasets.ImageFolder(\n",
    "                    root='../input/grading_images/UNET_Multiclass/train', \n",
    "                    transform=train_transform\n",
    "                    )\n",
    "unetm_val_dataset = datasets.ImageFolder(\n",
    "                    root='../input/grading_images/UNET_Multiclass/val', \n",
    "                    transform=eval_transform\n",
    "                    )\n",
    "unetm_test_dataset = datasets.ImageFolder(\n",
    "                    root='../input/grading_images/UNET_Multiclass/test', \n",
    "                    transform=eval_transform\n",
    "                    )\n",
    "\n",
    "# Create PyTorch dataloaders for training and validation\n",
    "unetm_train_dataloader = torch.utils.data.DataLoader(\n",
    "                    unetm_train_dataset,\n",
    "                    batch_size=batch_size, \n",
    "                    shuffle=True\n",
    "                    )\n",
    "unetm_val_dataloader = torch.utils.data.DataLoader(\n",
    "                    unetm_val_dataset, \n",
    "                    batch_size=batch_size, \n",
    "                    shuffle=True\n",
    "                    )\n",
    "unetm_test_dataloader = torch.utils.data.DataLoader(\n",
    "                    unetm_test_dataset, \n",
    "                    batch_size=batch_size, \n",
    "                    shuffle=True\n",
    "                    )"
   ]
  },
  {
   "cell_type": "markdown",
   "metadata": {},
   "source": [
    "#### Visualisation"
   ]
  },
  {
   "cell_type": "code",
   "execution_count": null,
   "metadata": {},
   "outputs": [],
   "source": [
    "def visualise_img(dataloader, class_list: list):\n",
    "    \"\"\"\n",
    "    Function to visualize the first 9 images of the dataset.\n",
    "\n",
    "    Args:\n",
    "        dataloader (DataLoader): PyTorch DataLoader object containing the dataset to visualize.\n",
    "        class_list (list): List of class labels.\n",
    "    \"\"\"\n",
    "    #Get the first batch of images and labels\n",
    "    train_images, train_labels = next(iter(dataloader))\n",
    "    batch_size = train_images.size(0)  # Get the batch size\n",
    "\n",
    "    #Print the shape of the batch\n",
    "    print(f\"Images batch shape: {train_images.size()}\")\n",
    "    print(f\"Labels batch shape: {train_labels.size()}\")\n",
    "\n",
    "    #Create a 3x3 grid for visualization\n",
    "    fig, axes = plt.subplots(3, 3, figsize=(9, 9))\n",
    "\n",
    "    for i in range(3):\n",
    "        for j in range(3):\n",
    "            #Get the index of the image in the batch\n",
    "            index = i * 3 + j\n",
    "\n",
    "            if index < batch_size:\n",
    "                #Prepare image to print\n",
    "                img = train_images[index].squeeze().numpy().transpose((1, 2, 0))\n",
    "                label = train_labels[index].item()\n",
    "\n",
    "                #Plot the image\n",
    "                axes[i, j].imshow(img)\n",
    "                axes[i, j].axis('off')\n",
    "                axes[i, j].set_title(f'Label: {label}, {class_list[label]}', loc='left')\n",
    "\n",
    "    plt.tight_layout()\n",
    "    plt.show()"
   ]
  },
  {
   "cell_type": "code",
   "execution_count": null,
   "metadata": {},
   "outputs": [],
   "source": [
    "visualise_img(ben_train_dataloader, ben_train_dataset.classes)"
   ]
  },
  {
   "cell_type": "code",
   "execution_count": null,
   "metadata": {},
   "outputs": [],
   "source": [
    "visualise_img(clahe_train_dataloader, clahe_train_dataset.classes)"
   ]
  },
  {
   "cell_type": "code",
   "execution_count": null,
   "metadata": {},
   "outputs": [],
   "source": [
    "visualise_img(unetb_train_dataloader, unetb_train_dataset.classes)"
   ]
  },
  {
   "cell_type": "code",
   "execution_count": null,
   "metadata": {},
   "outputs": [],
   "source": [
    "visualise_img(unetm_train_dataloader, unetm_train_dataset.classes)"
   ]
  },
  {
   "cell_type": "markdown",
   "metadata": {},
   "source": [
    "### Train, Eval Functions"
   ]
  },
  {
   "cell_type": "code",
   "execution_count": 4,
   "metadata": {},
   "outputs": [],
   "source": [
    "def calculate_dr_class_weights(dataset):\n",
    "    \"\"\"\n",
    "    Function to calculate class weights\n",
    "    Class Weights of i = Total Num of Samples / Total Num of samples of Class i * Num of classes\n",
    "\n",
    "    We calculate the average of samples per class if it was equally distributed and then calculate the class weights based on the difference of actual vs ideal\n",
    "\n",
    "    Args:\n",
    "        dataset: train dataset\n",
    "\n",
    "    Returns:\n",
    "        weights (np.ndarray): array of size n_classes with the weights of each class in each index\n",
    "    \"\"\"\n",
    "    # Counting the number of samples in each class\n",
    "    class_counts = np.bincount(dataset.targets)\n",
    "    total_samples = sum(class_counts)\n",
    "    num_classes = len(class_counts)\n",
    "    \n",
    "    # Calculating class weights inversely proportional to the number of samples in each class\n",
    "    weights = total_samples / (num_classes * class_counts)\n",
    "\n",
    "    print(\"Class Weights:\", weights)\n",
    "    \n",
    "    return weights"
   ]
  },
  {
   "cell_type": "code",
   "execution_count": 5,
   "metadata": {},
   "outputs": [],
   "source": [
    "import torch\n",
    "\n",
    "def eval(model, \n",
    "         criterion, \n",
    "         img_size:tuple,\n",
    "         val_dataloader, \n",
    "         device='cuda'):\n",
    "    \"\"\"\n",
    "    Evaluation function for finetuning CNN models with a model object,\n",
    "    incorporating average sensitivity for a multiclass problem.\n",
    "\n",
    "    Sensitivity function: True Positives / (True Positives + False Negatives)\n",
    "\n",
    "    Args:\n",
    "        model: model to be trained\n",
    "        criterion: loss function\n",
    "        img_size (tuple): image size of dataset for model. All inputs will be resized to image size\n",
    "        val_dataloader: val / test dataloader\n",
    "        device (str, optional): 'cpu' or 'cuda', defaults to cuda.\n",
    "\n",
    "    Returns:\n",
    "        val_loss: float of the average val loss.\n",
    "        val_accuracy: float of the accuracy.\n",
    "        val_sensitivity: float of the average sensitivity across all classes.\n",
    "    \"\"\"\n",
    "\n",
    "    model = model.to(device)\n",
    "    \n",
    "    #set model to eval mode\n",
    "    model.eval()\n",
    "\n",
    "    #variables \n",
    "    val_loss = 0.0\n",
    "    correct = 0\n",
    "    total = 0\n",
    "    n_classes = 5\n",
    "    true_positives = [0] * n_classes #stores num of true positives per class\n",
    "    actual_positives = [0] * n_classes #stores total number of positives per class\n",
    "    total_sensitivity = 0\n",
    "\n",
    "    with torch.no_grad():\n",
    "        for image, label in val_dataloader:\n",
    "            batch_sensitivity = 0\n",
    "\n",
    "            #resize image with bilinear, same as torchvision.transforms.Resize()\n",
    "            image = torch.nn.functional.interpolate(image, size=img_size, mode='bilinear') \n",
    "            image, label = image.to(device), label.to(device)\n",
    "\n",
    "            outputs = model(image)  #predict label\n",
    "            loss = criterion(outputs, label)  #calculate loss\n",
    "            val_loss += loss.item()\n",
    "\n",
    "            _, predicted = torch.max(outputs.data, 1) #get prediction\n",
    "            total += label.size(0)\n",
    "            correct += (predicted == label).sum().item()\n",
    "\n",
    "            for i in range(n_classes):\n",
    "                true_positives[i] += ((predicted == i) & (label == i)).sum().item() #true positives\n",
    "                actual_positives[i] += (label == i).sum().item() #true positives + false negatives\n",
    "            \n",
    "                if (label == i).sum().item() > 0:\n",
    "                    batch_sensitivity += true_positives[i] / actual_positives[i]\n",
    "\n",
    "                else:\n",
    "                    pass\n",
    "            \n",
    "            total_sensitivity += batch_sensitivity/n_classes #average sensitivity for batch\n",
    "\n",
    "    # Calculate accuracy, avg loss, and avg sensitivity\n",
    "    accuracy = (correct / total) * 100\n",
    "    avg_val_loss = val_loss / len(val_dataloader)\n",
    "    avg_sensitivity = total_sensitivity/len(val_dataloader)\n",
    "    \n",
    "    return avg_val_loss, accuracy, avg_sensitivity\n"
   ]
  },
  {
   "cell_type": "code",
   "execution_count": 6,
   "metadata": {},
   "outputs": [],
   "source": [
    "def train(model, \n",
    "          criterion, \n",
    "          optimiser, \n",
    "          img_size:tuple,\n",
    "          train_dataloader, \n",
    "          val_dataloader=None, \n",
    "          saving_metric:str='sensitivity',\n",
    "          num_epochs:int=25, \n",
    "          device:str='cuda', \n",
    "          model_name:str=None):\n",
    "    \"\"\"\n",
    "    Training Function to train model\n",
    "    Runs validation for each epoch to calculate: Validation Loss, Validation Accuracy, Validation Sensitivity\n",
    "    Best and last model will be saved to ../models/cnn under {model_name}_best.pt and {model_name}_last.pt\n",
    "    \n",
    "    Args:\n",
    "        model: model to be trained\n",
    "        criterion: loss function\n",
    "        optimiser: optimiser chosen\n",
    "        img_size (tuple): image size of dataset for model. All inputs will be resized to image size\n",
    "        train_dataloader: train dataloader\n",
    "        val_dataloader (optional): val dataloader, if None no validation will be calculated. Defaults to None.\n",
    "        saving_metric (str, optional): saving metrics for best model, either \"loss\", \"accuracy\", or \"sensitivity\". Defaults to 'sensitivity'.\n",
    "        num_epochs (int, optional): number of training epochs. Defaults to 25.\n",
    "        device (str, optional): cuda or cpu. Defaults to 'cuda'.\n",
    "        model_name (str, optional): model name to be saved, if None no model will be saved. Defaults to None.\n",
    "\n",
    "    Returns:\n",
    "        results_dataframe: dataframe of [model, train_loss, val_loss, val_accuracy, val_sensitivity] where each row is each epoch\n",
    "    \"\"\"\n",
    "\n",
    "    if saving_metric not in [\"loss\", \"accuracy\", \"sensitivity\"]:\n",
    "        raise Exception(\"Invalid saving metrics found, please only use loss, accuracy or sensitivity\")\n",
    "\n",
    "    #initialising results container\n",
    "    results = pd.DataFrame(columns=[\"Model\", \"train loss\", \"val loss\", \"val accuracy\", \"val sensitivity\"])\n",
    "    \n",
    "    #placeholders\n",
    "    val_loss = ''\n",
    "    val_accuracy = ''\n",
    "    val_sensitivity = ''\n",
    "\n",
    "\n",
    "    for epoch in range(num_epochs):\n",
    "\n",
    "        #initialising training\n",
    "        model.train()\n",
    "        training_loss = 0.0\n",
    "\n",
    "        for image, label in tqdm(train_dataloader):\n",
    "            \n",
    "            #resize image with bilinear, same as torchvision.transforms.Resize()\n",
    "            image = torch.nn.functional.interpolate(image, size=img_size, mode='bilinear') \n",
    "            image, label = image.to(device), label.to(device)\n",
    "\n",
    "            optimiser.zero_grad()\n",
    "            outputs = model(image)\n",
    "            #calculate loss and train model\n",
    "            loss = criterion(outputs, label)\n",
    "            loss.backward()\n",
    "            optimiser.step()\n",
    "            training_loss += loss.item() #update the training loss\n",
    "\n",
    "        epoch_loss = training_loss / len(train_dataloader) #calculate training loss in epoch\n",
    "        print(f\"Epoch {epoch+1} completed, training loss: {epoch_loss}\")\n",
    "\n",
    "        #validation\n",
    "        if val_dataloader is not None:\n",
    "            model.eval()  #set model to evaluate mode\n",
    "            val_loss, val_accuracy,  val_sensitivity = eval(model=model, \n",
    "                                                               criterion=criterion,\n",
    "                                                                val_dataloader=val_dataloader, \n",
    "                                                                img_size = img_size,\n",
    "                                                                device=device) \n",
    "            \n",
    "            print(f\"Validation loss: {val_loss}, Validation Accuracy: {val_accuracy:.2f}, Validation Sensitivty: {val_sensitivity:2f}\")\n",
    "            \n",
    "\n",
    "            if saving_metric == 'loss' and len(results) > 0 and val_loss < min(results['val loss'].to_list()):\n",
    "                torch.save(model, f'../models/cnn/{model_name}_best.pt')\n",
    "                print(\"Best model saved\")\n",
    "\n",
    "            elif saving_metric == 'accuracy' and len(results) > 0 and val_accuracy > max(results['val accuracy'].to_list()):\n",
    "                torch.save(model, f'../models/cnn/{model_name}_best.pt')\n",
    "                print(\"Best model saved\")\n",
    "\n",
    "            elif saving_metric == 'sensitivity' and len(results) > 0 and val_sensitivity > max(results['val sensitivity'].to_list()):\n",
    "                torch.save(model, f'../models/cnn/{model_name}_best.pt')\n",
    "                print(\"Best model saved\")\n",
    "            \n",
    "        #updating results\n",
    "        results.loc[len(results)] = [model_name, epoch_loss, val_loss, val_accuracy, val_sensitivity]\n",
    "\n",
    "\n",
    "    #save the last model\n",
    "    if model_name is not None:\n",
    "        torch.save(model, f'../models/cnn/{model_name}_last.pt')\n",
    "\n",
    "    return results\n"
   ]
  },
  {
   "cell_type": "markdown",
   "metadata": {},
   "source": [
    "### Model"
   ]
  },
  {
   "cell_type": "code",
   "execution_count": 7,
   "metadata": {},
   "outputs": [],
   "source": [
    "class PreTrainedCNNModels(torch.nn.Module):\n",
    "    def __init__(self, model_type:str, num_first_unfreeze:int, num_last_unfreeze:int, num_class:int):\n",
    "        super(PreTrainedCNNModels, self).__init__()\n",
    "        \"\"\"\n",
    "        Class that contains InceptionV3, Resnet50, Resnet152, EfficientNet, DenseNet, VGG16, MaxVit fine tuned models\n",
    "\n",
    "        Args:\n",
    "            model_type (str): Determines which pre-trained models to use\n",
    "                              Must be: InceptionV3, Resnet50, Resnet152, EfficientNet, DenseNet, VGG16, MaxVit\n",
    "            num_first_unfreeze (int): Number of first layers to unfreeze and finetune\n",
    "            num_last_unfreeze (int): Number of layers to unfreeze and finetune\n",
    "            num_class (int): Number of output classes for the classification\n",
    "        \"\"\"\n",
    "        #selecting model type\n",
    "        if model_type == 'InceptionV3':\n",
    "            self.model = models.inception_v3(weights=models.Inception_V3_Weights.DEFAULT)\n",
    "            self.model.aux_logits = False\n",
    "\n",
    "        elif model_type == 'Resnet50':\n",
    "            self.model = models.resnet50(weights=models.ResNet50_Weights.DEFAULT)\n",
    "\n",
    "        elif model_type == 'Resnet152':\n",
    "            self.model = models.resnet152(weights=models.ResNet152_Weights.DEFAULT)\n",
    "\n",
    "        elif model_type == 'EfficientNet':\n",
    "            self.model = models.efficientnet_v2_s(weights=models.EfficientNet_V2_S_Weights.DEFAULT)\n",
    "\n",
    "        elif model_type == 'DenseNet':\n",
    "            self.model = models.densenet121(weights=models.DenseNet121_Weights.DEFAULT)\n",
    "        \n",
    "        elif model_type == 'VGG16':\n",
    "            self.model = models.vgg16_bn(weights=models.VGG16_BN_Weights.DEFAULT)\n",
    "\n",
    "        elif model_type == 'MaxVit':\n",
    "            self.model = models.maxvit_t(weights=models.MaxVit_T_Weights.DEFAULT)\n",
    "        \n",
    "        else:\n",
    "            raise Exception(\"Invalid model type chosen. Please select one of the following\\n[InceptionV3, Resnet50, Resnet152, EfficientNet, DenseNet, VGG16, MaxVit]\")\n",
    "\n",
    "        \n",
    "        #modifying final layer\n",
    "        if model_type in ['InceptionV3', 'Resnet50', 'Resnet152']:\n",
    "            self.model.fc = torch.nn.Linear(self.model.fc.in_features, num_class)\n",
    "\n",
    "        elif model_type == 'DenseNet':\n",
    "            self.model.classifier = torch.nn.Linear(self.model.classifier.in_features, num_class)\n",
    "\n",
    "        else:\n",
    "            self.model.classifier[-1] = torch.nn.Linear(self.model.classifier[-1].in_features, num_class)\n",
    "\n",
    "\n",
    "        model_paramteres = list(self.model.parameters())\n",
    "        #unfreeze last num_last_unfreeze layers\n",
    "        for param in model_paramteres[-num_last_unfreeze:]:\n",
    "            param.requires_grad = True\n",
    "\n",
    "        #unfreeze first num_first_unfreeze layers \n",
    "        for param in model_paramteres[:num_first_unfreeze]:\n",
    "            param.requires_grad = True\n",
    "            \n",
    "        #freeze rest of the layers\n",
    "        for param in model_paramteres[num_first_unfreeze:-num_last_unfreeze]:\n",
    "            param.requires_grad = False\n",
    "\n",
    "\n",
    "    def forward(self, images):\n",
    "        return self.model(images)"
   ]
  },
  {
   "cell_type": "markdown",
   "metadata": {},
   "source": [
    "### Training all model without weighted class with unfrozen last linear layer\n",
    "\n",
    "Training all model with Cross Entropy Loss without any class weights on Ben Graham dataset\n",
    "\n",
    "Note: We have to put 2 as num_last_unfreeze due to the fact that the lineaer layer has bias and weights and is thus considered as 2 layers in the architecture."
   ]
  },
  {
   "cell_type": "code",
   "execution_count": null,
   "metadata": {},
   "outputs": [],
   "source": [
    "models_list = [['InceptionV3', (299,299)],\n",
    "               ['Resnet50', (224,224)],\n",
    "               ['Resnet152',(224,224)],\n",
    "               ['EfficientNet',(224,224)],\n",
    "               ['DenseNet',(224,224)],\n",
    "               ['VGG16',(224,224)],\n",
    "               ['MaxVit', (224,224)]]\n",
    "\n",
    "\n",
    "device = torch.device('cuda' if torch.cuda.is_available() else 'cpu')\n",
    "num_epochs = 50\n",
    "\n",
    "all_results = pd.DataFrame(columns=[\"Model\", \"train loss\", \"val loss\", \"val accuracy\", \"val sensitivity\"])\n",
    "\n",
    "for model_name, img_size in models_list:\n",
    "\n",
    "    #clear cuda memory\n",
    "    torch.cuda.empty_cache()\n",
    "    gc.collect()\n",
    "\n",
    "    model = PreTrainedCNNModels(model_name, 0, 2, len(ben_train_dataset.classes)).to(device)\n",
    "    criterion=torch.nn.CrossEntropyLoss()\n",
    "    optimizer = torch.optim.Adam(model.parameters(), lr=3e-4)\n",
    "\n",
    "    print(f\"-------------Training {model_name}------------\")\n",
    "    model_result = train(model,\n",
    "                         criterion,\n",
    "                         optimizer,\n",
    "                         img_size,\n",
    "                         ben_train_dataloader,\n",
    "                         ben_val_dataloader,\n",
    "                         'sensitivity',\n",
    "                         num_epochs,\n",
    "                         device,\n",
    "                         f\"{model_name}_base\")\n",
    "    \n",
    "    all_results =  pd.concat([all_results, model_result])\n",
    "\n",
    "all_results.to_csv(\"results/cnn_base.csv\")\n"
   ]
  },
  {
   "cell_type": "code",
   "execution_count": null,
   "metadata": {},
   "outputs": [],
   "source": [
    "models_list = [['InceptionV3', (299,299)],\n",
    "               ['Resnet50', (224,224)],\n",
    "               ['Resnet152',(224,224)],\n",
    "               ['EfficientNet',(224,224)],\n",
    "               ['DenseNet',(224,224)],\n",
    "               ['VGG16',(224,224)],\n",
    "               ['MaxVit', (224,224)]]\n",
    "\n",
    "\n",
    "device = torch.device('cuda' if torch.cuda.is_available() else 'cpu')\n",
    "\n",
    "for model_name, img_size in models_list:\n",
    "\n",
    "    #clear cuda memory\n",
    "    torch.cuda.empty_cache()\n",
    "    gc.collect()\n",
    "\n",
    "    best_model = torch.load(f'../models/cnn/{model_name}_base_best.pt')\n",
    "    last_model = torch.load(f'../model/cnn/{model_name}_base_last.pt')\n",
    "    criterion=torch.nn.CrossEntropyLoss()\n",
    "\n",
    "    print(f\"-------------Evaluating {model_name}------------\")\n",
    "    loss, accuracy, sensitivity = eval(best_model,\n",
    "                                        criterion,\n",
    "                                        img_size,\n",
    "                                        ben_test_dataloader,\n",
    "                                        device)\n",
    "    print(f\"Best Model - Test Loss: {loss}, Test Accuracy: {accuracy}, Test Sensitivity: {sensitivity}\")\n",
    "    loss, accuracy, sensitivity = eval(last_model,\n",
    "                                        criterion,\n",
    "                                        img_size,\n",
    "                                        ben_test_dataloader,\n",
    "                                        device)\n",
    "    print(f\"Last Model - Test Loss: {loss}, Test Accuracy: {accuracy}, Test Sensitivity: {sensitivity}\\n\")"
   ]
  },
  {
   "cell_type": "markdown",
   "metadata": {},
   "source": [
    "### Training all model with weighted class with unfrozen last linear layer\n",
    "\n",
    "Training all model with Cross Entropy Loss with calculated class weights on Ben Graham dataset\n",
    "\n",
    "Class Weights of i = Total Num of Samples / Total Num of samples of Class i * Num of classes\n",
    "\n",
    "We calculate the average of samples per class if it was equally distributed and then calculate the class weights based on the difference of actual vs ideal\n",
    "\n",
    "<br/>\n",
    "Note: We have to put 2 as num_last_unfreeze due to the fact that the lineaer layer has bias and weights and is thus considered as 2 layers in the architecture."
   ]
  },
  {
   "cell_type": "code",
   "execution_count": null,
   "metadata": {},
   "outputs": [],
   "source": [
    "class_weights = calculate_dr_class_weights(ben_test_dataset)"
   ]
  },
  {
   "cell_type": "code",
   "execution_count": null,
   "metadata": {},
   "outputs": [],
   "source": [
    "models_list = [['InceptionV3', (299,299)],\n",
    "               ['Resnet50', (224,224)],\n",
    "               ['Resnet152',(224,224)],\n",
    "               ['EfficientNet',(224,224)],\n",
    "               ['DenseNet',(224,224)],\n",
    "               ['VGG16',(224,224)],\n",
    "               ['MaxVit', (224,224)]]\n",
    "\n",
    "\n",
    "device = torch.device('cuda' if torch.cuda.is_available() else 'cpu')\n",
    "num_epochs = 50\n",
    "\n",
    "all_results = pd.DataFrame(columns=[\"Model\", \"train loss\", \"val loss\", \"val accuracy\", \"val sensitivity\"])\n",
    "\n",
    "for model_name, img_size in models_list:\n",
    "\n",
    "    #clear cuda memory\n",
    "    torch.cuda.empty_cache()\n",
    "    gc.collect()\n",
    "\n",
    "    model = PreTrainedCNNModels(model_name, 0, 2, len(ben_train_dataset.classes)).to(device)\n",
    "    criterion=torch.nn.CrossEntropyLoss(weight=torch.tensor(class_weights, dtype=torch.float32).to(device))\n",
    "    optimizer = torch.optim.Adam(model.parameters(), lr=3e-4)\n",
    "\n",
    "    print(f\"-------------Training {model_name}------------\")\n",
    "    model_result = train(model,\n",
    "                         criterion,\n",
    "                         optimizer,\n",
    "                         img_size,\n",
    "                         ben_train_dataloader,\n",
    "                         ben_val_dataloader,\n",
    "                         'sensitivity',\n",
    "                         num_epochs,\n",
    "                         device,\n",
    "                         f\"{model_name}_weighted\")\n",
    "    \n",
    "    all_results =  pd.concat([all_results, model_result])\n",
    "\n",
    "all_results.to_csv(\"results/cnn_weighted.csv\")"
   ]
  },
  {
   "cell_type": "code",
   "execution_count": null,
   "metadata": {},
   "outputs": [],
   "source": [
    "models_list = [['InceptionV3', (299,299)],\n",
    "               ['Resnet50', (224,224)],\n",
    "               ['Resnet152',(224,224)],\n",
    "               ['EfficientNet',(224,224)],\n",
    "               ['DenseNet',(224,224)],\n",
    "               ['VGG16',(224,224)],\n",
    "               ['MaxVit', (224,224)]]\n",
    "\n",
    "\n",
    "device = torch.device('cuda' if torch.cuda.is_available() else 'cpu')\n",
    "\n",
    "for model_name, img_size in models_list:\n",
    "\n",
    "    #clear cuda memory\n",
    "    torch.cuda.empty_cache()\n",
    "    gc.collect()\n",
    "\n",
    "    best_model = torch.load(f'../models/cnn/{model_name}_weighted_best.pt')\n",
    "    last_model = torch.load(f'../models/cnn/{model_name}_weighted_last.pt')\n",
    "    criterion=torch.nn.CrossEntropyLoss()\n",
    "\n",
    "    print(f\"-------------Evaluating {model_name}------------\")\n",
    "    loss, accuracy, sensitivity = eval(best_model,\n",
    "                                        criterion,\n",
    "                                        img_size,\n",
    "                                        ben_test_dataloader,\n",
    "                                        device)\n",
    "    print(f\"Best Model - Test Loss: {loss}, Test Accuracy: {accuracy}, Test Sensitivity: {sensitivity}\")\n",
    "    loss, accuracy, sensitivity = eval(last_model,\n",
    "                                        criterion,\n",
    "                                        img_size,\n",
    "                                        ben_test_dataloader,\n",
    "                                        device)\n",
    "    print(f\"Last Model - Test Loss: {loss}, Test Accuracy: {accuracy}, Test Sensitivity: {sensitivity}\\n\")"
   ]
  },
  {
   "cell_type": "markdown",
   "metadata": {},
   "source": [
    "### Training all model with custom weighted class with unfrozen last linear layer\n",
    "\n",
    "Training all model with Cross Entropy Loss with custom class weights [1, 6, 1, 10, 3] on Ben Graham dataset\n",
    "\n",
    "\n",
    "Note: We have to put 2 as num_last_unfreeze due to the fact that the lineaer layer has bias and weights and is thus considered as 2 layers in the architecture."
   ]
  },
  {
   "cell_type": "code",
   "execution_count": null,
   "metadata": {},
   "outputs": [],
   "source": [
    "models_list = [['InceptionV3', (299,299)],\n",
    "               ['Resnet50', (224,224)],\n",
    "               ['Resnet152',(224,224)],\n",
    "               ['EfficientNet',(224,224)],\n",
    "               ['DenseNet',(224,224)],\n",
    "               ['VGG16',(224,224)],\n",
    "               ['MaxVit', (224,224)]]\n",
    "\n",
    "\n",
    "device = torch.device('cuda' if torch.cuda.is_available() else 'cpu')\n",
    "num_epochs = 50\n",
    "\n",
    "all_results = pd.DataFrame(columns=[\"Model\", \"train loss\", \"val loss\", \"val accuracy\", \"val sensitivity\"])\n",
    "\n",
    "for model_name, img_size in models_list:\n",
    "\n",
    "    #clear cuda memory\n",
    "    torch.cuda.empty_cache()\n",
    "    gc.collect()\n",
    "\n",
    "    model = PreTrainedCNNModels(model_name, 0, 2, len(ben_train_dataset.classes)).to(device)\n",
    "    criterion=torch.nn.CrossEntropyLoss(weight=torch.tensor([1, 6, 1, 10, 3], dtype=torch.float32).to(device))\n",
    "    optimizer = torch.optim.Adam(model.parameters(), lr=3e-4)\n",
    "\n",
    "    print(f\"-------------Training {model_name}------------\")\n",
    "    model_result = train(model,\n",
    "                         criterion,\n",
    "                         optimizer,\n",
    "                         img_size,\n",
    "                         ben_train_dataloader,\n",
    "                         ben_val_dataloader,\n",
    "                         'sensitivity',\n",
    "                         num_epochs,\n",
    "                         device,\n",
    "                         f\"{model_name}_custom_weighted\")\n",
    "    \n",
    "    all_results =  pd.concat([all_results, model_result])\n",
    "\n",
    "all_results.to_csv(\"results/cnn__custom_weighted.csv\")\n"
   ]
  },
  {
   "cell_type": "code",
   "execution_count": null,
   "metadata": {},
   "outputs": [],
   "source": [
    "models_list = [['InceptionV3', (299,299)],\n",
    "               ['Resnet50', (224,224)],\n",
    "               ['Resnet152',(224,224)],\n",
    "               ['EfficientNet',(224,224)],\n",
    "               ['DenseNet',(224,224)],\n",
    "               ['VGG16',(224,224)],\n",
    "               ['MaxVit', (224,224)]]\n",
    "\n",
    "\n",
    "device = torch.device('cuda' if torch.cuda.is_available() else 'cpu')\n",
    "\n",
    "for model_name, img_size in models_list:\n",
    "\n",
    "    #clear cuda memory\n",
    "    torch.cuda.empty_cache()\n",
    "    gc.collect()\n",
    "\n",
    "    best_model = torch.load(f'../models/cnn/{model_name}_custom_weighted_best.pt')\n",
    "    last_model = torch.load(f'../models/cnn/{model_name}_custom_weighted_last.pt')\n",
    "    criterion=torch.nn.CrossEntropyLoss()\n",
    "\n",
    "    print(f\"-------------Evaluating {model_name}------------\")\n",
    "    loss, accuracy, sensitivity = eval(best_model,\n",
    "                                        criterion,\n",
    "                                        img_size,\n",
    "                                        ben_test_dataloader,\n",
    "                                        device)\n",
    "    print(f\"Best Model - Test Loss: {loss}, Test Accuracy: {accuracy}, Test Sensitivity: {sensitivity}\")\n",
    "    loss, accuracy, sensitivity = eval(last_model,\n",
    "                                        criterion,\n",
    "                                        img_size,\n",
    "                                        ben_test_dataloader,\n",
    "                                        device)\n",
    "    print(f\"Last Model - Test Loss: {loss}, Test Accuracy: {accuracy}, Test Sensitivity: {sensitivity}\\n\")"
   ]
  },
  {
   "cell_type": "markdown",
   "metadata": {},
   "source": [
    "### Training all model with calculated weighted class with 8 last unfrozen layers\n",
    "\n",
    "Training all model with Cross Entropy Loss with calculated class weights on Ben Graham dataset with last 8 children layers unfreezed\n",
    "\n",
    "This helps us decide which model shall we be focusing on for layer exploration"
   ]
  },
  {
   "cell_type": "code",
   "execution_count": null,
   "metadata": {},
   "outputs": [],
   "source": [
    "class_weights = calculate_dr_class_weights(ben_test_dataset)"
   ]
  },
  {
   "cell_type": "code",
   "execution_count": null,
   "metadata": {},
   "outputs": [],
   "source": [
    "models_list = [['InceptionV3', (299,299)],\n",
    "               ['Resnet50', (224,224)],\n",
    "               ['Resnet152',(224,224)],\n",
    "               ['EfficientNet',(224,224)],\n",
    "               ['DenseNet',(224,224)],\n",
    "               ['VGG16',(224,224)],\n",
    "               ['MaxVit', (224,224)]]\n",
    "\n",
    "\n",
    "device = torch.device('cuda' if torch.cuda.is_available() else 'cpu')\n",
    "num_epochs = 30\n",
    "\n",
    "all_results = pd.DataFrame(columns=[\"Model\", \"train loss\", \"val loss\", \"val accuracy\", \"val sensitivity\"])\n",
    "\n",
    "for model_name, img_size in models_list:\n",
    "\n",
    "    #clear cuda memory\n",
    "    torch.cuda.empty_cache()\n",
    "    gc.collect()\n",
    "\n",
    "    model = PreTrainedCNNModels(model_name, 0, 8, len(ben_train_dataset.classes)).to(device)\n",
    "    criterion=torch.nn.CrossEntropyLoss(weight=torch.tensor(class_weights, dtype=torch.float32).to(device))\n",
    "    optimizer = torch.optim.Adam(model.parameters(), lr=3e-4)\n",
    "\n",
    "    print(f\"-------------Training {model_name}------------\")\n",
    "    model_result = train(model,\n",
    "                         criterion,\n",
    "                         optimizer,\n",
    "                         img_size,\n",
    "                         ben_train_dataloader,\n",
    "                         ben_val_dataloader,\n",
    "                         'sensitivity',\n",
    "                         num_epochs,\n",
    "                         device,\n",
    "                         f\"{model_name}_8_weighted\")\n",
    "    \n",
    "    all_results =  pd.concat([all_results, model_result])\n",
    "\n",
    "all_results.to_csv(\"results/cnn_8_weighted.csv\")\n"
   ]
  },
  {
   "cell_type": "code",
   "execution_count": null,
   "metadata": {},
   "outputs": [],
   "source": [
    "models_list = [['InceptionV3', (299,299)],\n",
    "               ['Resnet50', (224,224)],\n",
    "               ['Resnet152',(224,224)],\n",
    "               ['EfficientNet',(224,224)],\n",
    "               ['DenseNet',(224,224)],\n",
    "               ['VGG16',(224,224)],\n",
    "               ['MaxVit', (224,224)]]\n",
    "\n",
    "\n",
    "device = torch.device('cuda' if torch.cuda.is_available() else 'cpu')\n",
    "\n",
    "for model_name, img_size in models_list:\n",
    "\n",
    "    #clear cuda memory\n",
    "    torch.cuda.empty_cache()\n",
    "    gc.collect()\n",
    "\n",
    "    best_model = torch.load(f'../models/cnn/{model_name}_8_weighted_best.pt')\n",
    "    last_model = torch.load(f'../models/cnn/{model_name}_8_weighted_last.pt')\n",
    "    criterion=torch.nn.CrossEntropyLoss()\n",
    "\n",
    "    print(f\"-------------Evaluating {model_name}------------\")\n",
    "    loss, accuracy, sensitivity = eval(best_model,\n",
    "                                        criterion,\n",
    "                                        img_size,\n",
    "                                        ben_test_dataloader,\n",
    "                                        device)\n",
    "    print(f\"Best Model - Test Loss: {loss}, Test Accuracy: {accuracy}, Test Sensitivity: {sensitivity}\")\n",
    "    loss, accuracy, sensitivity = eval(last_model,\n",
    "                                        criterion,\n",
    "                                        img_size,\n",
    "                                        ben_test_dataloader,\n",
    "                                        device)\n",
    "    print(f\"Last Model - Test Loss: {loss}, Test Accuracy: {accuracy}, Test Sensitivity: {sensitivity}\\n\")"
   ]
  },
  {
   "cell_type": "markdown",
   "metadata": {},
   "source": [
    "### DenseNet Layer Exploration\n",
    "\n",
    "Exploring different numbers of unfrozen layers in DenseNet with Ben's Graham dataset\n",
    "\n",
    "The layers explored will be\n",
    "- 0 unfrozen first layer and 1 unfrozen last layer (done earlier)\n",
    "- 1 unfrozen first layer and 1 unfrozen last layer\n",
    "- 0 unfrozen first layer and 8 unfrozen last layer (done earlier)\n",
    "- 1 unfrozen first layer and 8 unfrozen last layer\n",
    "- 0 unfrozen first layer and 16 unfrozen last layer\n",
    "- 1 unfrozen first layer and 16 unfrozen last layer"
   ]
  },
  {
   "cell_type": "code",
   "execution_count": 8,
   "metadata": {},
   "outputs": [
    {
     "name": "stdout",
     "output_type": "stream",
     "text": [
      "Class Weights: [ 0.40443009  3.8864745   0.55102169 10.37159763  2.78664547]\n"
     ]
    }
   ],
   "source": [
    "class_weights = calculate_dr_class_weights(ben_train_dataset)"
   ]
  },
  {
   "cell_type": "code",
   "execution_count": null,
   "metadata": {},
   "outputs": [],
   "source": [
    "layer_list = [[1, 2],\n",
    "              [1, 8],\n",
    "              [0, 16],\n",
    "              [0, 16]]\n",
    "\n",
    "device = torch.device('cuda' if torch.cuda.is_available() else 'cpu')\n",
    "num_epochs = 30\n",
    "\n",
    "all_results = pd.DataFrame(columns=[\"Model\", \"train loss\", \"val loss\", \"val accuracy\", \"val sensitivity\"])\n",
    "\n",
    "for num_first_unfreeze, num_last_unfreeze in layer_list:\n",
    "\n",
    "    #clear cuda memory\n",
    "    torch.cuda.empty_cache()\n",
    "    gc.collect()\n",
    "\n",
    "    model = PreTrainedCNNModels(\"DenseNet\", num_first_unfreeze, num_last_unfreeze, len(ben_train_dataset.classes)).to(device)\n",
    "    criterion=torch.nn.CrossEntropyLoss(weight=torch.tensor(class_weights, dtype=torch.float32).to(device))\n",
    "    optimizer = torch.optim.Adam(model.parameters(), lr=3e-4)\n",
    "\n",
    "    print(f\"-------------Training DenseNet with {num_first_unfreeze} Unfrozen First Layers and {num_last_unfreeze} Unfrozen Last Layers------------\")\n",
    "    model_result = train(model,\n",
    "                         criterion,\n",
    "                         optimizer,\n",
    "                         img_size,\n",
    "                         ben_train_dataloader,\n",
    "                         ben_val_dataloader,\n",
    "                         'sensitivity',\n",
    "                         num_epochs,\n",
    "                         device,\n",
    "                         f\"DenseNet_{num_first_unfreeze}_{num_last_unfreeze}\")\n",
    "    \n",
    "    all_results =  pd.concat([all_results, model_result])\n",
    "\n",
    "all_results.to_csv(\"results/densenet_layer.csv\")\n"
   ]
  },
  {
   "cell_type": "code",
   "execution_count": null,
   "metadata": {},
   "outputs": [],
   "source": [
    "layer_list = [[1, 2],\n",
    "              [1, 8],\n",
    "              [0, 16],\n",
    "              [0, 16]]\n",
    "\n",
    "\n",
    "device = torch.device('cuda' if torch.cuda.is_available() else 'cpu')\n",
    "\n",
    "for num_first_unfreeze, num_last_unfreeze in layer_list:\n",
    "\n",
    "    #clear cuda memory\n",
    "    torch.cuda.empty_cache()\n",
    "    gc.collect()\n",
    "\n",
    "    best_model = torch.load(f'../models/cnn/DenseNet_{num_first_unfreeze}_{num_last_unfreeze}_best.pt')\n",
    "    last_model = torch.load(f'../models/cnn/DenseNet_{num_first_unfreeze}_{num_last_unfreeze}_last.pt')\n",
    "    criterion=torch.nn.CrossEntropyLoss()\n",
    "\n",
    "    print(f\"-------------Evaluating DenseNet with {num_first_unfreeze} Unfrozen First Layers and {num_last_unfreeze} Unfrozen Last Layers------------\")\n",
    "    loss, accuracy, sensitivity = eval(best_model,\n",
    "                                        criterion,\n",
    "                                        img_size,\n",
    "                                        ben_test_dataloader,\n",
    "                                        device)\n",
    "    print(f\"Best Model - Test Loss: {loss}, Test Accuracy: {accuracy}, Test Sensitivity: {sensitivity}\")\n",
    "    loss, accuracy, sensitivity = eval(last_model,\n",
    "                                        criterion,\n",
    "                                        img_size,\n",
    "                                        ben_test_dataloader,\n",
    "                                        device)\n",
    "    print(f\"Last Model - Test Loss: {loss}, Test Accuracy: {accuracy}, Test Sensitivity: {sensitivity}\\n\")"
   ]
  },
  {
   "cell_type": "markdown",
   "metadata": {},
   "source": [
    "### Others"
   ]
  },
  {
   "cell_type": "code",
   "execution_count": null,
   "metadata": {},
   "outputs": [],
   "source": [
    "import pandas as pd\n",
    "import matplotlib.pyplot as plt\n",
    "\n",
    "data = pd.read_csv(\"results/densenet_layer.csv\")\n",
    "grouped_data = data.groupby('Model')\n",
    "\n",
    "for model, model_data in grouped_data:\n",
    "    plt.figure(figsize=(10, 6))\n",
    "    plt.plot(model_data.index, model_data['train loss'], label='Train Loss')\n",
    "    plt.plot(model_data.index, model_data['val loss'], label='Validation Loss')\n",
    "    plt.plot(model_data.index, model_data['val sensitivity'], label='Validation Sensitivity')\n",
    "    \n",
    "    plt.title(f'{model} Metrics')\n",
    "    plt.xlabel('Epochs')\n",
    "    plt.ylabel('Value')\n",
    "    plt.legend()\n",
    "    plt.grid(True)\n",
    "    plt.show()\n"
   ]
  },
  {
   "cell_type": "markdown",
   "metadata": {},
   "source": [
    "### Maxvit"
   ]
  },
  {
   "cell_type": "code",
   "execution_count": 10,
   "metadata": {},
   "outputs": [],
   "source": [
    "all_results.to_csv(\"results/maxvit_layer_32_1.csv\")\n"
   ]
  },
  {
   "cell_type": "code",
   "execution_count": 15,
   "metadata": {},
   "outputs": [
    {
     "name": "stdout",
     "output_type": "stream",
     "text": [
      "-------------Training MaxVit with 1 Unfrozen First Layers and 32 Unfrozen Last Layers------------\n"
     ]
    },
    {
     "name": "stderr",
     "output_type": "stream",
     "text": [
      "100%|██████████| 137/137 [01:36<00:00,  1.42it/s]\n"
     ]
    },
    {
     "name": "stdout",
     "output_type": "stream",
     "text": [
      "Epoch 1 completed, training loss: 1.319461669364985\n",
      "Validation loss: 1.12693257133166, Validation Accuracy: 62.43, Validation Sensitivty: 0.480376\n"
     ]
    },
    {
     "name": "stderr",
     "output_type": "stream",
     "text": [
      "100%|██████████| 137/137 [01:09<00:00,  1.97it/s]\n"
     ]
    },
    {
     "name": "stdout",
     "output_type": "stream",
     "text": [
      "Epoch 2 completed, training loss: 1.1315965852598204\n",
      "Validation loss: 1.1158240060011546, Validation Accuracy: 47.63, Validation Sensitivty: 0.483911\n",
      "Best model saved\n"
     ]
    },
    {
     "name": "stderr",
     "output_type": "stream",
     "text": [
      "100%|██████████| 137/137 [00:59<00:00,  2.30it/s]\n"
     ]
    },
    {
     "name": "stdout",
     "output_type": "stream",
     "text": [
      "Epoch 3 completed, training loss: 1.0396713496994798\n",
      "Validation loss: 1.065335996945699, Validation Accuracy: 63.65, Validation Sensitivty: 0.520959\n",
      "Best model saved\n"
     ]
    },
    {
     "name": "stderr",
     "output_type": "stream",
     "text": [
      "100%|██████████| 137/137 [00:57<00:00,  2.40it/s]\n"
     ]
    },
    {
     "name": "stdout",
     "output_type": "stream",
     "text": [
      "Epoch 4 completed, training loss: 1.0128683443487125\n",
      "Validation loss: 1.0055249949296317, Validation Accuracy: 61.20, Validation Sensitivty: 0.507541\n"
     ]
    },
    {
     "name": "stderr",
     "output_type": "stream",
     "text": [
      "100%|██████████| 137/137 [00:57<00:00,  2.36it/s]\n"
     ]
    },
    {
     "name": "stdout",
     "output_type": "stream",
     "text": [
      "Epoch 5 completed, training loss: 0.958384613486102\n",
      "Validation loss: 1.0856672763824462, Validation Accuracy: 48.59, Validation Sensitivty: 0.486693\n"
     ]
    },
    {
     "name": "stderr",
     "output_type": "stream",
     "text": [
      "100%|██████████| 137/137 [00:57<00:00,  2.40it/s]\n"
     ]
    },
    {
     "name": "stdout",
     "output_type": "stream",
     "text": [
      "Epoch 6 completed, training loss: 0.9513714056815544\n",
      "Validation loss: 0.9977834423383077, Validation Accuracy: 46.14, Validation Sensitivty: 0.506746\n"
     ]
    },
    {
     "name": "stderr",
     "output_type": "stream",
     "text": [
      "100%|██████████| 137/137 [00:57<00:00,  2.36it/s]\n"
     ]
    },
    {
     "name": "stdout",
     "output_type": "stream",
     "text": [
      "Epoch 7 completed, training loss: 0.9307738886262379\n",
      "Validation loss: 1.0581432104110717, Validation Accuracy: 59.50, Validation Sensitivty: 0.522961\n",
      "Best model saved\n"
     ]
    },
    {
     "name": "stderr",
     "output_type": "stream",
     "text": [
      "100%|██████████| 137/137 [00:57<00:00,  2.38it/s]\n"
     ]
    },
    {
     "name": "stdout",
     "output_type": "stream",
     "text": [
      "Epoch 8 completed, training loss: 0.910632900948072\n",
      "Validation loss: 0.9758231600125631, Validation Accuracy: 57.26, Validation Sensitivty: 0.538427\n",
      "Best model saved\n"
     ]
    },
    {
     "name": "stderr",
     "output_type": "stream",
     "text": [
      "100%|██████████| 137/137 [00:56<00:00,  2.40it/s]\n"
     ]
    },
    {
     "name": "stdout",
     "output_type": "stream",
     "text": [
      "Epoch 9 completed, training loss: 0.9026999473571777\n",
      "Validation loss: 0.9746086398760477, Validation Accuracy: 58.33, Validation Sensitivty: 0.553715\n",
      "Best model saved\n"
     ]
    },
    {
     "name": "stderr",
     "output_type": "stream",
     "text": [
      "100%|██████████| 137/137 [00:56<00:00,  2.41it/s]\n"
     ]
    },
    {
     "name": "stdout",
     "output_type": "stream",
     "text": [
      "Epoch 10 completed, training loss: 0.8730778546228896\n",
      "Validation loss: 1.0114994605382284, Validation Accuracy: 60.62, Validation Sensitivty: 0.576143\n",
      "Best model saved\n"
     ]
    },
    {
     "name": "stderr",
     "output_type": "stream",
     "text": [
      "100%|██████████| 137/137 [00:56<00:00,  2.41it/s]\n"
     ]
    },
    {
     "name": "stdout",
     "output_type": "stream",
     "text": [
      "Epoch 11 completed, training loss: 0.8593794866634982\n",
      "Validation loss: 0.9734140535195669, Validation Accuracy: 49.60, Validation Sensitivty: 0.528225\n"
     ]
    },
    {
     "name": "stderr",
     "output_type": "stream",
     "text": [
      "100%|██████████| 137/137 [00:57<00:00,  2.40it/s]\n"
     ]
    },
    {
     "name": "stdout",
     "output_type": "stream",
     "text": [
      "Epoch 12 completed, training loss: 0.86099394960125\n",
      "Validation loss: 0.9627290030320486, Validation Accuracy: 62.37, Validation Sensitivty: 0.548255\n"
     ]
    },
    {
     "name": "stderr",
     "output_type": "stream",
     "text": [
      "100%|██████████| 137/137 [00:56<00:00,  2.43it/s]\n"
     ]
    },
    {
     "name": "stdout",
     "output_type": "stream",
     "text": [
      "Epoch 13 completed, training loss: 0.8500546351836545\n",
      "Validation loss: 0.9403668721516927, Validation Accuracy: 58.97, Validation Sensitivty: 0.529888\n"
     ]
    },
    {
     "name": "stderr",
     "output_type": "stream",
     "text": [
      "100%|██████████| 137/137 [00:56<00:00,  2.43it/s]\n"
     ]
    },
    {
     "name": "stdout",
     "output_type": "stream",
     "text": [
      "Epoch 14 completed, training loss: 0.8254345107252581\n",
      "Validation loss: 0.9673376460870107, Validation Accuracy: 63.38, Validation Sensitivty: 0.523904\n"
     ]
    },
    {
     "name": "stderr",
     "output_type": "stream",
     "text": [
      "100%|██████████| 137/137 [00:58<00:00,  2.36it/s]\n"
     ]
    },
    {
     "name": "stdout",
     "output_type": "stream",
     "text": [
      "Epoch 15 completed, training loss: 0.8169385086010842\n",
      "Validation loss: 1.0129921078681945, Validation Accuracy: 58.12, Validation Sensitivty: 0.535039\n"
     ]
    },
    {
     "name": "stderr",
     "output_type": "stream",
     "text": [
      "100%|██████████| 137/137 [00:55<00:00,  2.45it/s]\n"
     ]
    },
    {
     "name": "stdout",
     "output_type": "stream",
     "text": [
      "Epoch 16 completed, training loss: 0.7817522330875815\n",
      "Validation loss: 0.9726807534694671, Validation Accuracy: 57.42, Validation Sensitivty: 0.526345\n"
     ]
    },
    {
     "name": "stderr",
     "output_type": "stream",
     "text": [
      "100%|██████████| 137/137 [00:56<00:00,  2.41it/s]\n"
     ]
    },
    {
     "name": "stdout",
     "output_type": "stream",
     "text": [
      "Epoch 17 completed, training loss: 0.777857153737632\n",
      "Validation loss: 0.9943130751450856, Validation Accuracy: 63.97, Validation Sensitivty: 0.515503\n"
     ]
    },
    {
     "name": "stderr",
     "output_type": "stream",
     "text": [
      "100%|██████████| 137/137 [00:58<00:00,  2.33it/s]\n"
     ]
    },
    {
     "name": "stdout",
     "output_type": "stream",
     "text": [
      "Epoch 18 completed, training loss: 0.7733310028149264\n",
      "Validation loss: 0.9073032339413961, Validation Accuracy: 60.78, Validation Sensitivty: 0.524751\n"
     ]
    },
    {
     "name": "stderr",
     "output_type": "stream",
     "text": [
      "100%|██████████| 137/137 [00:57<00:00,  2.39it/s]\n"
     ]
    },
    {
     "name": "stdout",
     "output_type": "stream",
     "text": [
      "Epoch 19 completed, training loss: 0.766703519290381\n",
      "Validation loss: 0.953839780886968, Validation Accuracy: 54.28, Validation Sensitivty: 0.534688\n"
     ]
    },
    {
     "name": "stderr",
     "output_type": "stream",
     "text": [
      "100%|██████████| 137/137 [00:57<00:00,  2.38it/s]\n"
     ]
    },
    {
     "name": "stdout",
     "output_type": "stream",
     "text": [
      "Epoch 20 completed, training loss: 0.7416597332832587\n",
      "Validation loss: 0.9702939371267955, Validation Accuracy: 64.13, Validation Sensitivty: 0.562772\n"
     ]
    },
    {
     "name": "stderr",
     "output_type": "stream",
     "text": [
      "100%|██████████| 137/137 [00:58<00:00,  2.34it/s]\n"
     ]
    },
    {
     "name": "stdout",
     "output_type": "stream",
     "text": [
      "Epoch 21 completed, training loss: 0.7382691685300674\n",
      "Validation loss: 1.005612854162852, Validation Accuracy: 64.93, Validation Sensitivty: 0.566870\n"
     ]
    },
    {
     "name": "stderr",
     "output_type": "stream",
     "text": [
      "100%|██████████| 137/137 [01:01<00:00,  2.22it/s]\n"
     ]
    },
    {
     "name": "stdout",
     "output_type": "stream",
     "text": [
      "Epoch 22 completed, training loss: 0.7520616907272896\n",
      "Validation loss: 1.0625931759675344, Validation Accuracy: 65.62, Validation Sensitivty: 0.497881\n"
     ]
    },
    {
     "name": "stderr",
     "output_type": "stream",
     "text": [
      "100%|██████████| 137/137 [00:58<00:00,  2.33it/s]\n"
     ]
    },
    {
     "name": "stdout",
     "output_type": "stream",
     "text": [
      "Epoch 23 completed, training loss: 0.7320659563054134\n",
      "Validation loss: 0.960789159933726, Validation Accuracy: 61.26, Validation Sensitivty: 0.519352\n"
     ]
    },
    {
     "name": "stderr",
     "output_type": "stream",
     "text": [
      "100%|██████████| 137/137 [01:01<00:00,  2.22it/s]\n"
     ]
    },
    {
     "name": "stdout",
     "output_type": "stream",
     "text": [
      "Epoch 24 completed, training loss: 0.6960701822799488\n",
      "Validation loss: 1.0195311923821768, Validation Accuracy: 49.49, Validation Sensitivty: 0.585469\n",
      "Best model saved\n"
     ]
    },
    {
     "name": "stderr",
     "output_type": "stream",
     "text": [
      "100%|██████████| 137/137 [01:01<00:00,  2.23it/s]\n"
     ]
    },
    {
     "name": "stdout",
     "output_type": "stream",
     "text": [
      "Epoch 25 completed, training loss: 0.6907369041964956\n",
      "Validation loss: 1.0228022038936615, Validation Accuracy: 50.45, Validation Sensitivty: 0.564669\n"
     ]
    },
    {
     "name": "stderr",
     "output_type": "stream",
     "text": [
      "100%|██████████| 137/137 [01:04<00:00,  2.11it/s]\n"
     ]
    },
    {
     "name": "stdout",
     "output_type": "stream",
     "text": [
      "Epoch 26 completed, training loss: 0.6761908964084012\n",
      "Validation loss: 1.0653216699759165, Validation Accuracy: 65.25, Validation Sensitivty: 0.524555\n"
     ]
    },
    {
     "name": "stderr",
     "output_type": "stream",
     "text": [
      "100%|██████████| 137/137 [01:01<00:00,  2.23it/s]\n"
     ]
    },
    {
     "name": "stdout",
     "output_type": "stream",
     "text": [
      "Epoch 27 completed, training loss: 0.6772895842573069\n",
      "Validation loss: 0.9862998445828756, Validation Accuracy: 60.14, Validation Sensitivty: 0.542022\n"
     ]
    },
    {
     "name": "stderr",
     "output_type": "stream",
     "text": [
      "100%|██████████| 137/137 [01:00<00:00,  2.25it/s]\n"
     ]
    },
    {
     "name": "stdout",
     "output_type": "stream",
     "text": [
      "Epoch 28 completed, training loss: 0.6545774817031665\n",
      "Validation loss: 1.0095360616842906, Validation Accuracy: 63.23, Validation Sensitivty: 0.558063\n"
     ]
    },
    {
     "name": "stderr",
     "output_type": "stream",
     "text": [
      "100%|██████████| 137/137 [01:00<00:00,  2.25it/s]\n"
     ]
    },
    {
     "name": "stdout",
     "output_type": "stream",
     "text": [
      "Epoch 29 completed, training loss: 0.6634984075152961\n",
      "Validation loss: 1.128754884004593, Validation Accuracy: 62.16, Validation Sensitivty: 0.539253\n"
     ]
    },
    {
     "name": "stderr",
     "output_type": "stream",
     "text": [
      "100%|██████████| 137/137 [00:58<00:00,  2.33it/s]\n"
     ]
    },
    {
     "name": "stdout",
     "output_type": "stream",
     "text": [
      "Epoch 30 completed, training loss: 0.6418025191247898\n",
      "Validation loss: 1.052891355752945, Validation Accuracy: 67.11, Validation Sensitivty: 0.560383\n"
     ]
    }
   ],
   "source": [
    "layer_list = [#[1, 2],\n",
    "              #[1, 8],\n",
    "              #[0, 16],\n",
    "            #   [1, 16],\n",
    "            # [0,32],\n",
    "            [1,32]]\n",
    "\n",
    "device = torch.device('cuda' if torch.cuda.is_available() else 'cpu')\n",
    "num_epochs = 30\n",
    "\n",
    "all_results = pd.DataFrame(columns=[\"Model\", \"train loss\", \"val loss\", \"val accuracy\", \"val sensitivity\"])\n",
    "\n",
    "for num_first_unfreeze, num_last_unfreeze in layer_list:\n",
    "\n",
    "    #clear cuda memory\n",
    "    torch.cuda.empty_cache()\n",
    "    gc.collect()\n",
    "\n",
    "    model = PreTrainedCNNModels(\"MaxVit\", num_first_unfreeze, num_last_unfreeze, len(ben_train_dataset.classes)).to(device)\n",
    "    criterion=torch.nn.CrossEntropyLoss(weight=torch.tensor(class_weights, dtype=torch.float32).to(device))\n",
    "    optimizer = torch.optim.Adam(model.parameters(), lr=3e-4)\n",
    "    img_size =(224,224)\n",
    "    print(f\"-------------Training MaxVit with {num_first_unfreeze} Unfrozen First Layers and {num_last_unfreeze} Unfrozen Last Layers------------\")\n",
    "    model_result = train(model,\n",
    "                         criterion,\n",
    "                         optimizer,\n",
    "                         img_size,\n",
    "                         ben_train_dataloader,\n",
    "                         ben_val_dataloader,\n",
    "                         'sensitivity',\n",
    "                         num_epochs,\n",
    "                         device,\n",
    "                         f\"MaxVit_{num_first_unfreeze}_{num_last_unfreeze}\")\n",
    "    \n",
    "    all_results =  pd.concat([all_results, model_result])\n",
    "\n",
    "all_results.to_csv(\"results/maxvit_layer_32.csv\")\n"
   ]
  },
  {
   "cell_type": "code",
   "execution_count": 23,
   "metadata": {},
   "outputs": [
    {
     "name": "stdout",
     "output_type": "stream",
     "text": [
      "-------------Evaluating MaxVit with 0 Unfrozen First Layers and 2 Unfrozen Last Layers------------\n",
      "Best Model - Test Loss: 1.0961543262004851, Test Accuracy: 53.751995742416184, Test Sensitivity: 0.5241103566809048\n",
      "Last Model - Test Loss: 1.0256121476491293, Test Accuracy: 58.91431612559872, Test Sensitivity: 0.5461324168192216\n",
      "\n",
      "-------------Evaluating MaxVit with 1 Unfrozen First Layers and 2 Unfrozen Last Layers------------\n",
      "Best Model - Test Loss: 1.0601339260737102, Test Accuracy: 50.45236828100054, Test Sensitivity: 0.49947258356926333\n",
      "Last Model - Test Loss: 1.0719071586926778, Test Accuracy: 52.5279403938265, Test Sensitivity: 0.5030582615149314\n",
      "\n",
      "-------------Evaluating MaxVit with 0 Unfrozen First Layers and 8 Unfrozen Last Layers------------\n",
      "Best Model - Test Loss: 1.060960199435552, Test Accuracy: 53.64555614688664, Test Sensitivity: 0.5036851739330139\n",
      "Last Model - Test Loss: 1.0184288720289867, Test Accuracy: 53.219797764768494, Test Sensitivity: 0.5004001441253628\n",
      "\n",
      "-------------Evaluating MaxVit with 1 Unfrozen First Layers and 8 Unfrozen Last Layers------------\n",
      "Best Model - Test Loss: 1.0138193170229595, Test Accuracy: 54.28419372006387, Test Sensitivity: 0.5323060255069891\n",
      "Last Model - Test Loss: 0.9876124838987986, Test Accuracy: 55.13571048430016, Test Sensitivity: 0.5025829265832408\n",
      "\n",
      "-------------Evaluating MaxVit with 0 Unfrozen First Layers and 16 Unfrozen Last Layers------------\n",
      "Best Model - Test Loss: 0.9813774208227793, Test Accuracy: 55.82756785524216, Test Sensitivity: 0.5232336418493231\n",
      "Last Model - Test Loss: 0.8942599932352702, Test Accuracy: 60.35125066524747, Test Sensitivity: 0.5619612157072121\n",
      "\n",
      "-------------Evaluating MaxVit with 1 Unfrozen First Layers and 16 Unfrozen Last Layers------------\n",
      "Best Model - Test Loss: 0.8854368130366007, Test Accuracy: 62.42682277807344, Test Sensitivity: 0.5633619826909757\n",
      "Last Model - Test Loss: 0.9089657008647919, Test Accuracy: 57.317722192655665, Test Sensitivity: 0.548997139503836\n",
      "\n",
      "-------------Evaluating MaxVit with 0 Unfrozen First Layers and 32 Unfrozen Last Layers------------\n",
      "Best Model - Test Loss: 0.8751678864161173, Test Accuracy: 60.830228845130385, Test Sensitivity: 0.5737215496922595\n",
      "Last Model - Test Loss: 0.7448441207408905, Test Accuracy: 69.45183608302288, Test Sensitivity: 0.5204985508540594\n",
      "\n",
      "-------------Evaluating MaxVit with 1 Unfrozen First Layers and 32 Unfrozen Last Layers------------\n",
      "Best Model - Test Loss: 1.0667520145575204, Test Accuracy: 49.06865353911655, Test Sensitivity: 0.5243282243175637\n",
      "Last Model - Test Loss: 0.7898154258728027, Test Accuracy: 67.26982437466738, Test Sensitivity: 0.582360256872208\n",
      "\n"
     ]
    }
   ],
   "source": [
    "layer_list = [[0, 2],\n",
    "              [1, 2],\n",
    "              [0, 8],\n",
    "              [1, 8],\n",
    "              [0, 16],\n",
    "              [1, 16],\n",
    "              [0, 32],\n",
    "              [1, 32]]\n",
    "\n",
    "device = torch.device('cuda' if torch.cuda.is_available() else 'cpu')\n",
    "\n",
    "for num_first_unfreeze, num_last_unfreeze in layer_list:\n",
    "\n",
    "    #clear cuda memory\n",
    "    torch.cuda.empty_cache()\n",
    "    gc.collect()\n",
    "\n",
    "    best_model = torch.load(f'../models/cnn/MaxVit_{num_first_unfreeze}_{num_last_unfreeze}_best.pt')\n",
    "    last_model = torch.load(f'../models/cnn/MaxVit_{num_first_unfreeze}_{num_last_unfreeze}_last.pt')\n",
    "    criterion=torch.nn.CrossEntropyLoss()\n",
    "\n",
    "    print(f\"-------------Evaluating MaxVit with {num_first_unfreeze} Unfrozen First Layers and {num_last_unfreeze} Unfrozen Last Layers------------\")\n",
    "    loss, accuracy, sensitivity = eval(best_model,\n",
    "                                        criterion,\n",
    "                                        img_size,\n",
    "                                        ben_test_dataloader,\n",
    "                                        device)\n",
    "    print(f\"Best Model - Test Loss: {loss}, Test Accuracy: {accuracy}, Test Sensitivity: {sensitivity}\")\n",
    "    loss, accuracy, sensitivity = eval(last_model,\n",
    "                                        criterion,\n",
    "                                        img_size,\n",
    "                                        ben_test_dataloader,\n",
    "                                        device)\n",
    "    print(f\"Last Model - Test Loss: {loss}, Test Accuracy: {accuracy}, Test Sensitivity: {sensitivity}\\n\")"
   ]
  },
  {
   "cell_type": "code",
   "execution_count": 18,
   "metadata": {},
   "outputs": [
    {
     "data": {
      "image/png": "[encoded data removed]",
      "text/plain": [
       "<Figure size 1000x600 with 1 Axes>"
      ]
     },
     "metadata": {},
     "output_type": "display_data"
    }
   ],
   "source": [
    "import pandas as pd\n",
    "import matplotlib.pyplot as plt\n",
    "\n",
    "data = pd.read_csv(\"results/maxvit_layer_32.csv\")\n",
    "grouped_data = data.groupby('Model')\n",
    "\n",
    "for model, model_data in grouped_data:\n",
    "    plt.figure(figsize=(10, 6))\n",
    "    plt.plot(model_data.index, model_data['train loss'], label='Train Loss')\n",
    "    plt.plot(model_data.index, model_data['val loss'], label='Validation Loss')\n",
    "    plt.plot(model_data.index, model_data['val sensitivity'], label='Validation Sensitivity')\n",
    "    \n",
    "    plt.title(f'{model} Metrics')\n",
    "    plt.xlabel('Epochs')\n",
    "    plt.ylabel('Value')\n",
    "    plt.legend()\n",
    "    plt.grid(True)\n",
    "    plt.show()\n"
   ]
  },
  {
   "cell_type": "code",
   "execution_count": null,
   "metadata": {},
   "outputs": [],
   "source": []
  }
 ],
 "metadata": {
  "kernelspec": {
   "display_name": "Python 3",
   "language": "python",
   "name": "python3"
  },
  "language_info": {
   "codemirror_mode": {
    "name": "ipython",
    "version": 3
   },
   "file_extension": ".py",
   "mimetype": "text/x-python",
   "name": "python",
   "nbconvert_exporter": "python",
   "pygments_lexer": "ipython3",
   "version": "3.9.13"
  }
 },
 "nbformat": 4,
 "nbformat_minor": 2
}
